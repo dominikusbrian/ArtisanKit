{
 "cells": [
  {
   "cell_type": "markdown",
   "metadata": {},
   "source": [
    "# <center> Artisan</center>\n"
   ]
  },
  {
   "cell_type": "markdown",
   "metadata": {},
   "source": [
    "## <center> A Productivity Toolkit for Craftsman/woman Doing Research in Computational Chemistry, Machine Learning, and Beyond.</center>"
   ]
  },
  {
   "cell_type": "code",
   "execution_count": 1,
   "metadata": {},
   "outputs": [
    {
     "name": "stdout",
     "output_type": "stream",
     "text": [
      "Requirement already satisfied: ArtisanKit in /xspace/sungroup/software/anaconda3/lib/python3.8/site-packages (0.0.3)\n"
     ]
    }
   ],
   "source": [
    "#make sure ArtisanKit is installed\n",
    "! pip install ArtisanKit"
   ]
  },
  {
   "cell_type": "code",
   "execution_count": 2,
   "metadata": {},
   "outputs": [],
   "source": [
    "import ArtisanKit as ak"
   ]
  },
  {
   "cell_type": "code",
   "execution_count": 3,
   "metadata": {},
   "outputs": [],
   "source": [
    "from ArtisanKit import iostream as io"
   ]
  },
  {
   "cell_type": "code",
   "execution_count": 3,
   "metadata": {},
   "outputs": [],
   "source": [
    "# # Temporary solution if package is not found\n",
    "# import sys\n",
    "# sys.path.append(r'/xspace/db4271/')\n",
    "# import ArtisanKit.artisan_beta as ak\n",
    "# #from artisan_beta import plotting,iostream,statistics\n",
    "# from ArtisanKit.artisan_beta import iostream as io"
   ]
  },
  {
   "cell_type": "code",
   "execution_count": 4,
   "metadata": {},
   "outputs": [
    {
     "name": "stdout",
     "output_type": "stream",
     "text": [
      "A total of  3 .dat  files are detected\n"
     ]
    }
   ],
   "source": [
    "mypath = '/xspace/db4271/ArtisanKit/sample'\n",
    "filepattern = '.dat'\n",
    "myfilepaths= io.survey(mypath, filepattern)"
   ]
  },
  {
   "cell_type": "code",
   "execution_count": null,
   "metadata": {},
   "outputs": [],
   "source": [
    "#Upload all the listed filenames into csv files and organize them as a dask dataframe dictionary object.\n",
    "result_ALL = {}\n",
    "for f in filepaths_ALL:\n",
    "    obj = dd.read_csv(f)\n",
    "    result_ALL[f] = obj"
   ]
  },
  {
   "cell_type": "code",
   "execution_count": null,
   "metadata": {},
   "outputs": [],
   "source": [
    "#List of datanames_main\n",
    "\n",
    "state = ['equilibrate','remd']\n",
    "case = np.array([str(x) for x in range(1,9,1)])\n",
    "\n",
    "datanames_main = []\n",
    "for s in state:\n",
    "    for c in case: \n",
    "        fileformat = s + \".mdinfo.00\" + c\n",
    "        dataname = '/xspace/db4271/amber_tutorial/REMD/' + fileformat\n",
    "        datanames_main.append(dataname)\n",
    "print(\"There are a total of\", len(datanames_main), \"files under this category\")"
   ]
  },
  {
   "cell_type": "code",
   "execution_count": null,
   "metadata": {},
   "outputs": [],
   "source": [
    "#List of varnames_main\n",
    "state_var = ['eq','remd']\n",
    "case_var = np.array([str(x) for x in range(1,9,1)])\n",
    "\n",
    "varnames_main = []\n",
    "for s in state_var:\n",
    "    for c in case_var: \n",
    "                varname = s + c\n",
    "                varnames_main.append(varname)\n",
    "print(\"There are a total of\", len(varnames_main), \"variable names under this category\")"
   ]
  },
  {
   "cell_type": "code",
   "execution_count": null,
   "metadata": {},
   "outputs": [],
   "source": [
    "#data_to_var is a dictionary that link nicknames (variable names) to the full datanames\n",
    "#option1: with for and range\n",
    "# Empty dictionary\n",
    "data_to_var = {}\n",
    "# COnvert to dictionary\n",
    "for key in varnames_main:\n",
    "   for value in datanames_main:\n",
    "      data_to_var[key] = value\n",
    "      datanames_main.remove(value)\n",
    "      break"
   ]
  },
  {
   "cell_type": "markdown",
   "metadata": {},
   "source": [
    "### for custom sized subplots "
   ]
  },
  {
   "cell_type": "code",
   "execution_count": 1,
   "metadata": {},
   "outputs": [
    {
     "ename": "NameError",
     "evalue": "name 'plt' is not defined",
     "output_type": "error",
     "traceback": [
      "\u001b[0;31m---------------------------------------------------------------------------\u001b[0m",
      "\u001b[0;31mNameError\u001b[0m                                 Traceback (most recent call last)",
      "\u001b[0;32m<ipython-input-1-65e874a1034b>\u001b[0m in \u001b[0;36m<module>\u001b[0;34m\u001b[0m\n\u001b[0;32m----> 1\u001b[0;31m \u001b[0mfig\u001b[0m \u001b[0;34m=\u001b[0m \u001b[0mplt\u001b[0m\u001b[0;34m.\u001b[0m\u001b[0mfigure\u001b[0m\u001b[0;34m(\u001b[0m\u001b[0mfigsize\u001b[0m \u001b[0;34m=\u001b[0m \u001b[0;34m(\u001b[0m\u001b[0;36m18\u001b[0m\u001b[0;34m,\u001b[0m\u001b[0;36m10\u001b[0m\u001b[0;34m)\u001b[0m\u001b[0;34m)\u001b[0m\u001b[0;34m\u001b[0m\u001b[0;34m\u001b[0m\u001b[0m\n\u001b[0m\u001b[1;32m      2\u001b[0m \u001b[0;34m\u001b[0m\u001b[0m\n\u001b[1;32m      3\u001b[0m \u001b[0mplt\u001b[0m\u001b[0;34m.\u001b[0m\u001b[0msuptitle\u001b[0m\u001b[0;34m(\u001b[0m\u001b[0;34mr' Bent Triad $\\mathbf{\\pi\\pi^* \\rightarrow}$CT1\\n'\u001b[0m \u001b[0;34m+\u001b[0m \u001b[0;34m'Cross-Correlation C(t)'\u001b[0m\u001b[0;34m,\u001b[0m\u001b[0mfontsize\u001b[0m\u001b[0;34m=\u001b[0m\u001b[0;36m32\u001b[0m\u001b[0;34m,\u001b[0m \u001b[0mfontweight\u001b[0m \u001b[0;34m=\u001b[0m \u001b[0;34m'bold'\u001b[0m\u001b[0;34m,\u001b[0m\u001b[0mcolor\u001b[0m\u001b[0;34m=\u001b[0m\u001b[0;34m'k'\u001b[0m\u001b[0;34m)\u001b[0m\u001b[0;34m\u001b[0m\u001b[0;34m\u001b[0m\u001b[0m\n\u001b[1;32m      4\u001b[0m \u001b[0mplt\u001b[0m\u001b[0;34m.\u001b[0m\u001b[0msubplots_adjust\u001b[0m\u001b[0;34m(\u001b[0m\u001b[0mleft\u001b[0m\u001b[0;34m=\u001b[0m\u001b[0;32mNone\u001b[0m\u001b[0;34m,\u001b[0m \u001b[0mbottom\u001b[0m\u001b[0;34m=\u001b[0m\u001b[0;32mNone\u001b[0m\u001b[0;34m,\u001b[0m \u001b[0mright\u001b[0m\u001b[0;34m=\u001b[0m\u001b[0;32mNone\u001b[0m\u001b[0;34m,\u001b[0m \u001b[0mtop\u001b[0m\u001b[0;34m=\u001b[0m\u001b[0;32mNone\u001b[0m\u001b[0;34m,\u001b[0m \u001b[0mwspace\u001b[0m\u001b[0;34m=\u001b[0m\u001b[0;36m0\u001b[0m\u001b[0;34m,\u001b[0m \u001b[0mhspace\u001b[0m\u001b[0;34m=\u001b[0m\u001b[0;36m0\u001b[0m\u001b[0;34m)\u001b[0m\u001b[0;34m\u001b[0m\u001b[0;34m\u001b[0m\u001b[0m\n\u001b[1;32m      5\u001b[0m \u001b[0mplt\u001b[0m\u001b[0;34m.\u001b[0m\u001b[0msubplots_adjust\u001b[0m\u001b[0;34m(\u001b[0m\u001b[0mtop\u001b[0m\u001b[0;34m=\u001b[0m\u001b[0;36m0.88\u001b[0m\u001b[0;34m)\u001b[0m\u001b[0;34m\u001b[0m\u001b[0;34m\u001b[0m\u001b[0m\n",
      "\u001b[0;31mNameError\u001b[0m: name 'plt' is not defined"
     ]
    }
   ],
   "source": [
    "fig = plt.figure(figsize = (18,10))\n",
    "\n",
    "plt.suptitle(r' Bent Triad $\\mathbf{\\pi\\pi^* \\rightarrow}$CT1\\n' + 'Cross-Correlation C(t)',fontsize=32, fontweight = 'bold',color='k')\n",
    "plt.subplots_adjust(left=None, bottom=None, right=None, top=None, wspace=0, hspace=0)\n",
    "plt.subplots_adjust(top=0.88)\n",
    "\n",
    "\n",
    "################ DATA PLOTTING STARTS HERE #############################\n",
    "# plt.subplot2grid((2, 2), (0, 0), colspan=1) 2 rows x 2 columns , \n",
    "# axis position is row[0], column[0], spanning over 1 column\n",
    "#########################################################################\n",
    "ax1 = plt.subplot2grid((2, 2), (0, 0), colspan=1)   \n",
    "           \n",
    "#########################################################################\n",
    "ax2 = plt.subplot2grid((2, 2), (0, 1), colspan=1)     \n",
    "\n",
    "\n",
    "#########################################################################\n",
    "ax3 = plt.subplot2grid((2, 2), (1, 0), colspan=1)    \n",
    "           \n",
    "#########################################################################\n",
    "ax4 = plt.subplot2grid((2, 2), (1, 1), colspan=1)     \n",
    "\n",
    "##################################################################################################################\n",
    "##PLOTTING PARAMETER\n",
    "\n",
    "\n",
    "#General\n",
    "\n",
    "#Label\n",
    "\n",
    "#Tick Params\n",
    "\n",
    "#Limit\n",
    "\n",
    "\n",
    "##SAVE FIGURE\n",
    "# filename = ('%s/Figures/model1_evenlyflip_front_kt_linear_PICT1.pdf') %(Path)\n",
    "# plt.savefig(filename,dpi=600,bbox_inches='tight') \n",
    "# filename = ('%s/Figures/model1_evenlyflip_front_kt_linear_PICT1.png') %(Path)\n",
    "# plt.savefig(filename,dpi=600,bbox_inches='tight') \n"
   ]
  },
  {
   "cell_type": "code",
   "execution_count": null,
   "metadata": {},
   "outputs": [],
   "source": []
  }
 ],
 "metadata": {
  "kernelspec": {
   "display_name": "Python 3",
   "language": "python",
   "name": "python3"
  },
  "language_info": {
   "codemirror_mode": {
    "name": "ipython",
    "version": 3
   },
   "file_extension": ".py",
   "mimetype": "text/x-python",
   "name": "python",
   "nbconvert_exporter": "python",
   "pygments_lexer": "ipython3",
   "version": "3.8.3"
  }
 },
 "nbformat": 4,
 "nbformat_minor": 4
}
